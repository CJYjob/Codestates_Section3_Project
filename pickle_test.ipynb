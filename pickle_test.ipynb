{
  "nbformat": 4,
  "nbformat_minor": 0,
  "metadata": {
    "colab": {
      "provenance": [],
      "collapsed_sections": [],
      "mount_file_id": "1lMVTwwCwuVmIFrYIygUdfy-sTCjdU6l3",
      "authorship_tag": "ABX9TyOBlgCk87dVtorH0KEioluY",
      "include_colab_link": true
    },
    "kernelspec": {
      "name": "python3",
      "display_name": "Python 3"
    },
    "language_info": {
      "name": "python"
    }
  },
  "cells": [
    {
      "cell_type": "markdown",
      "metadata": {
        "id": "view-in-github",
        "colab_type": "text"
      },
      "source": [
        "<a href=\"https://colab.research.google.com/github/CJYjob/Codestates_Section3_Project/blob/main/pickle_test.ipynb\" target=\"_parent\"><img src=\"https://colab.research.google.com/assets/colab-badge.svg\" alt=\"Open In Colab\"/></a>"
      ]
    },
    {
      "cell_type": "code",
      "execution_count": null,
      "metadata": {
        "id": "YLkHpJDHNu4U"
      },
      "outputs": [],
      "source": [
        "import numpy as np\n",
        "import pandas as pd\n",
        "from sklearn.model_selection import train_test_split\n",
        "from sklearn.ensemble import RandomForestRegressor"
      ]
    },
    {
      "cell_type": "code",
      "source": [
        "data = pd.read_csv('/content/drive/MyDrive/Colab Notebooks/CodeStates/Section 3 Project/stock_5days_candle_data.csv')"
      ],
      "metadata": {
        "id": "-hI3tXuyNzVU"
      },
      "execution_count": null,
      "outputs": []
    },
    {
      "cell_type": "code",
      "source": [
        "data['benefit'] = data['high'] - data['open']"
      ],
      "metadata": {
        "id": "-RB8F2mQN4ns"
      },
      "execution_count": null,
      "outputs": []
    },
    {
      "cell_type": "code",
      "source": [
        "features = ['open_-1_', 'high_-1_', 'low_-1_', 'close_-1_', 'open_-2_', 'high_-2_', 'low_-2_', 'close_-2_', 'open_-3_', 'high_-3_', 'low_-3_', 'close_-3_', 'open_-4_', 'high_-4_', 'low_-4_', 'close_-4_', 'open_-5_', 'high_-5_', 'low_-5_', 'close_-5_']\n",
        "target = 'benefit'"
      ],
      "metadata": {
        "id": "OiJeS68iN6WK"
      },
      "execution_count": null,
      "outputs": []
    },
    {
      "cell_type": "code",
      "source": [
        "# 데이터 로드\n",
        "x_data = data[features]\n",
        "y_data = data[target]"
      ],
      "metadata": {
        "id": "H5WixrRyN71S"
      },
      "execution_count": null,
      "outputs": []
    },
    {
      "cell_type": "code",
      "source": [
        "# 데이터 전처리\n",
        "x_train, x_test, y_train, y_test = train_test_split(x_data, y_data, test_size=0.3, random_state=42)"
      ],
      "metadata": {
        "id": "LAuYAxCFN9F8"
      },
      "execution_count": null,
      "outputs": []
    },
    {
      "cell_type": "code",
      "source": [
        "import pickle\n",
        "\n",
        "model = None\n",
        "with open('/content/drive/MyDrive/Colab Notebooks/CodeStates/Section 3 Project/model.pkl','rb') as pickle_file:\n",
        "   model = pickle.load(pickle_file)"
      ],
      "metadata": {
        "id": "roScNOTzOFXi"
      },
      "execution_count": null,
      "outputs": []
    },
    {
      "cell_type": "code",
      "source": [
        "# 모델 검증\n",
        "print(model.score(x_train, y_train)) # 0.9194143453686562\n",
        "print(model.score(x_test, y_test)) # 0.4200815721069452"
      ],
      "metadata": {
        "colab": {
          "base_uri": "https://localhost:8080/"
        },
        "id": "xVeSOeJPN_Vy",
        "outputId": "2bae69f0-08b2-4044-eac2-3c1a8e818c2d"
      },
      "execution_count": null,
      "outputs": [
        {
          "output_type": "stream",
          "name": "stdout",
          "text": [
            "0.9194143453686562\n",
            "0.4200815721069452\n"
          ]
        }
      ]
    }
  ]
}