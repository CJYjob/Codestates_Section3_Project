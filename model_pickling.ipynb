{
  "nbformat": 4,
  "nbformat_minor": 0,
  "metadata": {
    "colab": {
      "provenance": [],
      "collapsed_sections": [],
      "mount_file_id": "1_DLvOSYnS57IqpBzWY1zpahDiUE_eZWj",
      "authorship_tag": "ABX9TyNAQAl+9vks9ei+Sn4CPgAD",
      "include_colab_link": true
    },
    "kernelspec": {
      "name": "python3",
      "display_name": "Python 3"
    },
    "language_info": {
      "name": "python"
    }
  },
  "cells": [
    {
      "cell_type": "markdown",
      "metadata": {
        "id": "view-in-github",
        "colab_type": "text"
      },
      "source": [
        "<a href=\"https://colab.research.google.com/github/CJYjob/Codestates_Section3_Project/blob/main/model_pickling.ipynb\" target=\"_parent\"><img src=\"https://colab.research.google.com/assets/colab-badge.svg\" alt=\"Open In Colab\"/></a>"
      ]
    },
    {
      "cell_type": "code",
      "source": [
        "import numpy as np\n",
        "import pandas as pd\n",
        "from sklearn.model_selection import train_test_split\n",
        "from sklearn.ensemble import RandomForestRegressor"
      ],
      "metadata": {
        "id": "spf7l9T4e28z"
      },
      "execution_count": null,
      "outputs": []
    },
    {
      "cell_type": "code",
      "source": [
        "data = pd.read_csv('/content/drive/MyDrive/Colab Notebooks/CodeStates/Section 3 Project/stock_5days_candle_data.csv')"
      ],
      "metadata": {
        "id": "DAcQ5mz8DjaW"
      },
      "execution_count": null,
      "outputs": []
    },
    {
      "cell_type": "code",
      "source": [
        "data['benefit'] = data['high'] - data['open']"
      ],
      "metadata": {
        "id": "z-s-enbAE9Wu"
      },
      "execution_count": null,
      "outputs": []
    },
    {
      "cell_type": "code",
      "source": [
        "features = ['open_-1_', 'high_-1_', 'low_-1_', 'close_-1_', 'open_-2_', 'high_-2_', 'low_-2_', 'close_-2_', 'open_-3_', 'high_-3_', 'low_-3_', 'close_-3_', 'open_-4_', 'high_-4_', 'low_-4_', 'close_-4_', 'open_-5_', 'high_-5_', 'low_-5_', 'close_-5_']\n",
        "target = 'benefit'"
      ],
      "metadata": {
        "id": "gLQ-i5DdEbE0"
      },
      "execution_count": null,
      "outputs": []
    },
    {
      "cell_type": "code",
      "execution_count": null,
      "metadata": {
        "id": "lUxWg6jePpNC"
      },
      "outputs": [],
      "source": [
        "# 데이터 로드\n",
        "x_data = data[features]\n",
        "y_data = data[target]"
      ]
    },
    {
      "cell_type": "code",
      "source": [
        "# 데이터 전처리\n",
        "x_train, x_test, y_train, y_test = train_test_split(x_data, y_data, test_size=0.3, random_state=42)"
      ],
      "metadata": {
        "id": "kIlcLNfZeqmL"
      },
      "execution_count": null,
      "outputs": []
    },
    {
      "cell_type": "code",
      "source": [
        "# 모델 생성\n",
        "model = RandomForestRegressor()"
      ],
      "metadata": {
        "id": "rwUHE5lmetLq"
      },
      "execution_count": null,
      "outputs": []
    },
    {
      "cell_type": "code",
      "source": [
        "# 모델 학습\n",
        "model.fit(x_train, y_train)"
      ],
      "metadata": {
        "colab": {
          "base_uri": "https://localhost:8080/"
        },
        "id": "hmbcvG4mevIS",
        "outputId": "804e0a94-7ced-4393-f929-f96373a6389a"
      },
      "execution_count": null,
      "outputs": [
        {
          "output_type": "execute_result",
          "data": {
            "text/plain": [
              "RandomForestRegressor()"
            ]
          },
          "metadata": {},
          "execution_count": 35
        }
      ]
    },
    {
      "cell_type": "code",
      "source": [
        "# 모델 검증\n",
        "print(model.score(x_train, y_train)) # 0.9194143453686562\n",
        "print(model.score(x_test, y_test)) # 0.4200815721069452"
      ],
      "metadata": {
        "colab": {
          "base_uri": "https://localhost:8080/"
        },
        "id": "7HOdjTtmexOC",
        "outputId": "43e2d525-6e9a-4a52-d440-a0b3bf567333"
      },
      "execution_count": null,
      "outputs": [
        {
          "output_type": "stream",
          "name": "stdout",
          "text": [
            "0.9194143453686562\n",
            "0.4200815721069452\n"
          ]
        }
      ]
    },
    {
      "cell_type": "code",
      "source": [
        "# 모델 예측\n",
        "x_sample = \"# sample data\"\n",
        "y_predict = model.predict(x_sample)\n",
        "print(y_predict[0]) #7.1"
      ],
      "metadata": {
        "colab": {
          "base_uri": "https://localhost:8080/"
        },
        "id": "0W_55Peie1B6",
        "outputId": "ea4109e6-84ef-4490-fdd7-e2ba4739598f"
      },
      "execution_count": null,
      "outputs": [
        {
          "output_type": "stream",
          "name": "stdout",
          "text": [
            "6.75\n"
          ]
        }
      ]
    },
    {
      "cell_type": "code",
      "source": [
        "import pickle"
      ],
      "metadata": {
        "id": "5g8ZczfCLcg0"
      },
      "execution_count": null,
      "outputs": []
    },
    {
      "cell_type": "code",
      "source": [
        "with open('model.pkl', 'wb') as pickle_file:\n",
        "  pickle.dump(model, pickle_file)"
      ],
      "metadata": {
        "id": "qqfokwQZLlQc"
      },
      "execution_count": null,
      "outputs": []
    }
  ]
}